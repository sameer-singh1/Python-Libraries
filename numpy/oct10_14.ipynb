{
 "cells": [
  {
   "cell_type": "code",
   "execution_count": 1,
   "metadata": {},
   "outputs": [],
   "source": [
    "import numpy as np"
   ]
  },
  {
   "cell_type": "code",
   "execution_count": 2,
   "metadata": {},
   "outputs": [
    {
     "name": "stdout",
     "output_type": "stream",
     "text": [
      "[[1. 0. 0. 0.]\n",
      " [0. 1. 0. 0.]\n",
      " [0. 0. 1. 0.]\n",
      " [0. 0. 0. 1.]]\n"
     ]
    }
   ],
   "source": [
    "a=np.eye(4)\n",
    "print(a)"
   ]
  },
  {
   "cell_type": "code",
   "execution_count": 3,
   "metadata": {},
   "outputs": [],
   "source": [
    "b=np.empty(4)"
   ]
  },
  {
   "cell_type": "code",
   "execution_count": 4,
   "metadata": {},
   "outputs": [
    {
     "name": "stdout",
     "output_type": "stream",
     "text": [
      "[1. 1. 1. 1.]\n"
     ]
    }
   ],
   "source": [
    "print(b)"
   ]
  },
  {
   "cell_type": "code",
   "execution_count": 5,
   "metadata": {},
   "outputs": [
    {
     "name": "stdout",
     "output_type": "stream",
     "text": [
      "[2.12199579e-314 0.00000000e+000 4.42682819e-321 3.79442416e-321\n",
      " 0.00000000e+000]\n"
     ]
    }
   ],
   "source": [
    "c=np.empty(5)\n",
    "print(c)"
   ]
  },
  {
   "cell_type": "code",
   "execution_count": 6,
   "metadata": {},
   "outputs": [],
   "source": [
    "d=np.empty((3,4))"
   ]
  },
  {
   "cell_type": "code",
   "execution_count": 7,
   "metadata": {},
   "outputs": [
    {
     "name": "stdout",
     "output_type": "stream",
     "text": [
      "[[1.30858729e-311 3.16202013e-322 0.00000000e+000 0.00000000e+000]\n",
      " [6.89903272e-310 4.50140955e+174 2.96014727e-032 1.08646229e-071]\n",
      " [3.34945767e-033 1.29255687e+161 2.65099158e-052 1.72345026e-047]]\n"
     ]
    }
   ],
   "source": [
    "print(d)"
   ]
  },
  {
   "cell_type": "code",
   "execution_count": 8,
   "metadata": {},
   "outputs": [],
   "source": [
    "e=np.random.rand(200)"
   ]
  },
  {
   "cell_type": "code",
   "execution_count": 9,
   "metadata": {},
   "outputs": [
    {
     "data": {
      "text/plain": [
       "array([0.55434834, 0.12730077, 0.44855256, 0.25422044, 0.52194084,\n",
       "       0.22304944, 0.92597732, 0.37063251, 0.0317618 , 0.8456304 ,\n",
       "       0.50571618, 0.11602638, 0.40416612, 0.15620408, 0.18586416,\n",
       "       0.22451417, 0.43225612, 0.94877463, 0.65730392, 0.66775995,\n",
       "       0.74915678, 0.1785637 , 0.48623477, 0.38493086, 0.15777358,\n",
       "       0.63300243, 0.79531011, 0.26181589, 0.70088433, 0.95455288,\n",
       "       0.09154841, 0.50565894, 0.45503379, 0.14198633, 0.38125288,\n",
       "       0.02669741, 0.57808141, 0.96123236, 0.82494254, 0.68427402,\n",
       "       0.54925018, 0.18226602, 0.1363775 , 0.48307906, 0.65656358,\n",
       "       0.56372863, 0.60075253, 0.70078962, 0.28353731, 0.84023538,\n",
       "       0.66595331, 0.65735069, 0.40916371, 0.98415256, 0.5748388 ,\n",
       "       0.40765022, 0.61827625, 0.53625624, 0.83384513, 0.92751268,\n",
       "       0.63903948, 0.47171505, 0.04434517, 0.28495524, 0.09701441,\n",
       "       0.5876462 , 0.7384109 , 0.53253099, 0.61612024, 0.55599371,\n",
       "       0.10507285, 0.27382384, 0.89964167, 0.80891492, 0.14509608,\n",
       "       0.35067943, 0.28087675, 0.15693472, 0.8779153 , 0.60494573,\n",
       "       0.20579663, 0.21256952, 0.54256286, 0.87174899, 0.20517905,\n",
       "       0.2051718 , 0.35121828, 0.33420462, 0.19910326, 0.82379676,\n",
       "       0.82620812, 0.97855551, 0.89937753, 0.46857813, 0.24188858,\n",
       "       0.19861105, 0.55973315, 0.75922766, 0.54022151, 0.44208988,\n",
       "       0.44595357, 0.8883582 , 0.50368414, 0.09278225, 0.96368608,\n",
       "       0.33518555, 0.11014695, 0.80023638, 0.32774403, 0.02366007,\n",
       "       0.09457291, 0.20858226, 0.52881105, 0.22962563, 0.10456547,\n",
       "       0.66298943, 0.57648029, 0.21301099, 0.80807168, 0.77849864,\n",
       "       0.44248229, 0.34728813, 0.76967216, 0.71967297, 0.95030584,\n",
       "       0.8415584 , 0.47447323, 0.62708286, 0.37754464, 0.92234536,\n",
       "       0.74539495, 0.08954433, 0.48124144, 0.01458644, 0.05615718,\n",
       "       0.50172457, 0.47262728, 0.72599586, 0.87218697, 0.17044097,\n",
       "       0.00402988, 0.91701584, 0.89718466, 0.65335341, 0.04542862,\n",
       "       0.61653079, 0.71771104, 0.86851601, 0.08566184, 0.31145533,\n",
       "       0.75936643, 0.75643552, 0.25699906, 0.5493268 , 0.91186974,\n",
       "       0.23620461, 0.36261865, 0.0397031 , 0.78868495, 0.8061765 ,\n",
       "       0.18942978, 0.33532609, 0.59597005, 0.92978302, 0.43524465,\n",
       "       0.95624163, 0.00559436, 0.46869792, 0.80336871, 0.37939607,\n",
       "       0.39003827, 0.39738873, 0.69864139, 0.26766698, 0.67034696,\n",
       "       0.38803981, 0.42607153, 0.67369708, 0.81367701, 0.1306558 ,\n",
       "       0.97591878, 0.14585886, 0.34751318, 0.61422042, 0.19498132,\n",
       "       0.90888326, 0.59855812, 0.71074118, 0.26416918, 0.69165535,\n",
       "       0.80247858, 0.14539232, 0.88114707, 0.6072563 , 0.69413255,\n",
       "       0.01737515, 0.23790419, 0.00640858, 0.80681656, 0.01288989])"
      ]
     },
     "execution_count": 9,
     "metadata": {},
     "output_type": "execute_result"
    }
   ],
   "source": [
    "e"
   ]
  },
  {
   "cell_type": "code",
   "execution_count": 10,
   "metadata": {},
   "outputs": [
    {
     "name": "stdout",
     "output_type": "stream",
     "text": [
      "4\n"
     ]
    }
   ],
   "source": [
    "f=np.random.randint(5)\n",
    "print(f)"
   ]
  },
  {
   "cell_type": "code",
   "execution_count": 11,
   "metadata": {},
   "outputs": [
    {
     "name": "stdout",
     "output_type": "stream",
     "text": [
      "75\n"
     ]
    }
   ],
   "source": [
    "g=np.random.randint(5,100)\n",
    "print(g)"
   ]
  },
  {
   "cell_type": "code",
   "execution_count": 12,
   "metadata": {},
   "outputs": [
    {
     "name": "stdout",
     "output_type": "stream",
     "text": [
      "[47 96  6  9 16]\n"
     ]
    }
   ],
   "source": [
    "h=np.random.randint(5,100,5)\n",
    "print(h)"
   ]
  },
  {
   "cell_type": "code",
   "execution_count": 13,
   "metadata": {},
   "outputs": [
    {
     "name": "stdout",
     "output_type": "stream",
     "text": [
      "[ 0.81800513 -0.9296126 ]\n"
     ]
    }
   ],
   "source": [
    "i=np.random.randn(2)\n",
    "print(i)"
   ]
  },
  {
   "cell_type": "code",
   "execution_count": 14,
   "metadata": {},
   "outputs": [
    {
     "name": "stdout",
     "output_type": "stream",
     "text": [
      "[[44 41 50 37]\n",
      " [86  8 44 55]]\n"
     ]
    }
   ],
   "source": [
    "j=np.random.randint(5,100,(2,4))\n",
    "print(j)"
   ]
  },
  {
   "cell_type": "code",
   "execution_count": 15,
   "metadata": {},
   "outputs": [
    {
     "name": "stdout",
     "output_type": "stream",
     "text": [
      "[[[61 29 52 32]\n",
      "  [55 86 88 43]\n",
      "  [74 66 27 48]]\n",
      "\n",
      " [[78 46  9 60]\n",
      "  [94 11 28 84]\n",
      "  [44 92 79 89]]]\n"
     ]
    }
   ],
   "source": [
    "k=np.random.randint(5,100,(2,3,4))\n",
    "print(k)"
   ]
  },
  {
   "cell_type": "code",
   "execution_count": 16,
   "metadata": {},
   "outputs": [
    {
     "data": {
      "text/plain": [
       "array([[1, 2, 3, 4],\n",
       "       [4, 5, 6, 7]])"
      ]
     },
     "execution_count": 16,
     "metadata": {},
     "output_type": "execute_result"
    }
   ],
   "source": [
    "a=[[1,2,3,4],[4,5,6,7]]\n",
    "arr=np.array(a)\n",
    "arr"
   ]
  },
  {
   "cell_type": "code",
   "execution_count": 22,
   "metadata": {},
   "outputs": [
    {
     "name": "stdout",
     "output_type": "stream",
     "text": [
      "(array([0, 0, 1, 1], dtype=int64), array([1, 3, 0, 2], dtype=int64))\n"
     ]
    }
   ],
   "source": [
    "print(np.where(arr%2==0))"
   ]
  },
  {
   "cell_type": "code",
   "execution_count": 18,
   "metadata": {},
   "outputs": [
    {
     "name": "stdout",
     "output_type": "stream",
     "text": [
      "[[ 0.54386198 -1.38181487 -1.41512068 -0.3114995 ]\n",
      " [-0.85490847 -0.88347966  0.70835419  0.47655379]]\n"
     ]
    }
   ],
   "source": [
    "i=np.random.randn(2,4)\n",
    "print(i)"
   ]
  },
  {
   "cell_type": "code",
   "execution_count": 19,
   "metadata": {},
   "outputs": [
    {
     "name": "stdout",
     "output_type": "stream",
     "text": [
      "[[[-0.61277961  1.50795618  1.18365364 -0.53075445]\n",
      "  [ 0.75900758 -0.71914594  0.11996115 -1.50803691]\n",
      "  [ 0.73638363  0.67346288  1.62440212 -0.60745472]]\n",
      "\n",
      " [[-0.91345043  0.62200635 -0.74591247 -0.63264774]\n",
      "  [-1.41434744  0.97935568  0.20396709  0.17193114]\n",
      "  [-0.2798744  -0.27812653  1.55789291  0.5549848 ]]]\n"
     ]
    }
   ],
   "source": [
    "i=np.random.randn(2,3,4)\n",
    "print(i)"
   ]
  },
  {
   "cell_type": "code",
   "execution_count": 20,
   "metadata": {},
   "outputs": [
    {
     "name": "stdout",
     "output_type": "stream",
     "text": [
      "[[0.19375419 0.968676   0.66146367]\n",
      " [0.90328928 0.83641045 0.78850957]]\n"
     ]
    }
   ],
   "source": [
    "i=np.random.rand(2,3)\n",
    "print(i)"
   ]
  },
  {
   "cell_type": "code",
   "execution_count": 21,
   "metadata": {},
   "outputs": [
    {
     "name": "stdout",
     "output_type": "stream",
     "text": [
      "[[[1.68921008e-02 2.86502508e-01 9.25911385e-01 8.75403134e-01]\n",
      "  [9.34272397e-01 6.02404400e-04 5.50268534e-01 2.96610612e-01]\n",
      "  [1.47911621e-01 5.14173257e-01 5.89684656e-01 7.25462051e-01]\n",
      "  [2.07903254e-01 1.37020955e-01 6.50528770e-01 6.91839418e-02]\n",
      "  [8.70148563e-01 1.87602539e-01 7.14760784e-01 5.77722178e-02]]]\n"
     ]
    }
   ],
   "source": [
    "print(np.random.rand(1,5,4))"
   ]
  },
  {
   "cell_type": "code",
   "execution_count": 39,
   "metadata": {},
   "outputs": [
    {
     "name": "stdout",
     "output_type": "stream",
     "text": [
      "[ 121.          220.36039471  401.31159963  730.8527479  1331.        ]\n"
     ]
    }
   ],
   "source": [
    "print(np.logspace(2,3,num=5,base=11))"
   ]
  },
  {
   "cell_type": "code",
   "execution_count": 35,
   "metadata": {},
   "outputs": [
    {
     "name": "stdout",
     "output_type": "stream",
     "text": [
      "[ 4  8 16]\n"
     ]
    }
   ],
   "source": [
    "\n",
    "print(np.logspace(2,4,num=3,base=2,dtype=int))"
   ]
  },
  {
   "cell_type": "code",
   "execution_count": 40,
   "metadata": {},
   "outputs": [
    {
     "data": {
      "text/plain": [
       "401.31159963300337"
      ]
     },
     "execution_count": 40,
     "metadata": {},
     "output_type": "execute_result"
    }
   ],
   "source": [
    "11**2.5"
   ]
  },
  {
   "cell_type": "code",
   "execution_count": 41,
   "metadata": {},
   "outputs": [
    {
     "data": {
      "text/plain": [
       "array([0, 1, 2, 3])"
      ]
     },
     "execution_count": 41,
     "metadata": {},
     "output_type": "execute_result"
    }
   ],
   "source": [
    "np.arange(4)"
   ]
  },
  {
   "cell_type": "code",
   "execution_count": 46,
   "metadata": {},
   "outputs": [
    {
     "name": "stdout",
     "output_type": "stream",
     "text": [
      "[2 3 4 5 6 7 8 9]\n"
     ]
    }
   ],
   "source": [
    "print(np.arange(2,10))"
   ]
  },
  {
   "cell_type": "code",
   "execution_count": 47,
   "metadata": {},
   "outputs": [
    {
     "data": {
      "text/plain": [
       "array([ 3,  6,  9, 12, 15, 18, 21, 24, 27, 30])"
      ]
     },
     "execution_count": 47,
     "metadata": {},
     "output_type": "execute_result"
    }
   ],
   "source": [
    "np.arange(3,32,3)"
   ]
  },
  {
   "cell_type": "code",
   "execution_count": null,
   "metadata": {},
   "outputs": [],
   "source": []
  }
 ],
 "metadata": {
  "kernelspec": {
   "display_name": "Python 3",
   "language": "python",
   "name": "python3"
  },
  "language_info": {
   "codemirror_mode": {
    "name": "ipython",
    "version": 3
   },
   "file_extension": ".py",
   "mimetype": "text/x-python",
   "name": "python",
   "nbconvert_exporter": "python",
   "pygments_lexer": "ipython3",
   "version": "3.8.10"
  }
 },
 "nbformat": 4,
 "nbformat_minor": 2
}
